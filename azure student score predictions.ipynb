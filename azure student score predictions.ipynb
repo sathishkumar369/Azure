{
 "cells": [
  {
   "cell_type": "code",
   "execution_count": 1,
   "metadata": {},
   "outputs": [],
   "source": [
    "from azureml import Workspace\n",
    "ws = Workspace()\n",
    "experiment = ws.experiments['d95087790ab242cab1dd3e15ca56f2df.f-id.e7c1feb6fb3f410baae42356685aa2af']\n",
    "ds = experiment.get_intermediate_dataset(\n",
    "    node_id='aa49a53d-a565-4946-ac7e-79dbb825c006-227',\n",
    "    port_name='Results dataset',\n",
    "    data_type_id='GenericCSV'\n",
    ")\n",
    "frame = ds.to_dataframe()"
   ]
  },
  {
   "cell_type": "code",
   "execution_count": 2,
   "metadata": {},
   "outputs": [],
   "source": [
    "data=frame"
   ]
  },
  {
   "cell_type": "code",
   "execution_count": 3,
   "metadata": {},
   "outputs": [
    {
     "name": "stdout",
     "output_type": "stream",
     "text": [
      "   Hours  Scores  Scored labels\n",
      "0    5.1      47             52\n",
      "1    2.7      25             28\n",
      "2    8.5      75             86\n",
      "3    6.9      76             70\n",
      "4    3.2      27             33\n",
      "5    1.1      17             12\n",
      "6    3.3      42             34\n"
     ]
    }
   ],
   "source": [
    "print(data)"
   ]
  },
  {
   "cell_type": "code",
   "execution_count": 4,
   "metadata": {},
   "outputs": [],
   "source": [
    "x=data['Hours']\n",
    "y=data['Scores']"
   ]
  },
  {
   "cell_type": "code",
   "execution_count": 5,
   "metadata": {},
   "outputs": [
    {
     "name": "stderr",
     "output_type": "stream",
     "text": [
      "/home/nbuser/anaconda3_23/lib/python3.4/site-packages/statsmodels/stats/stattools.py:72: UserWarning: omni_normtest is not valid with less than 8 observations; 7 samples were given.\n",
      "  \"samples were given.\" % int(n))\n"
     ]
    },
    {
     "data": {
      "text/html": [
       "<table class=\"simpletable\">\n",
       "<caption>OLS Regression Results</caption>\n",
       "<tr>\n",
       "  <th>Dep. Variable:</th>         <td>Scores</td>      <th>  R-squared:         </th> <td>   0.924</td>\n",
       "</tr>\n",
       "<tr>\n",
       "  <th>Model:</th>                   <td>OLS</td>       <th>  Adj. R-squared:    </th> <td>   0.909</td>\n",
       "</tr>\n",
       "<tr>\n",
       "  <th>Method:</th>             <td>Least Squares</td>  <th>  F-statistic:       </th> <td>   60.82</td>\n",
       "</tr>\n",
       "<tr>\n",
       "  <th>Date:</th>             <td>Sat, 26 Jan 2019</td> <th>  Prob (F-statistic):</th> <td>0.000555</td>\n",
       "</tr>\n",
       "<tr>\n",
       "  <th>Time:</th>                 <td>06:12:38</td>     <th>  Log-Likelihood:    </th> <td> -22.537</td>\n",
       "</tr>\n",
       "<tr>\n",
       "  <th>No. Observations:</th>      <td>     7</td>      <th>  AIC:               </th> <td>   49.07</td>\n",
       "</tr>\n",
       "<tr>\n",
       "  <th>Df Residuals:</th>          <td>     5</td>      <th>  BIC:               </th> <td>   48.97</td>\n",
       "</tr>\n",
       "<tr>\n",
       "  <th>Df Model:</th>              <td>     1</td>      <th>                     </th>     <td> </td>   \n",
       "</tr>\n",
       "<tr>\n",
       "  <th>Covariance Type:</th>      <td>nonrobust</td>    <th>                     </th>     <td> </td>   \n",
       "</tr>\n",
       "</table>\n",
       "<table class=\"simpletable\">\n",
       "<tr>\n",
       "    <td></td>       <th>coef</th>     <th>std err</th>      <th>t</th>      <th>P>|t|</th> <th>[95.0% Conf. Int.]</th> \n",
       "</tr>\n",
       "<tr>\n",
       "  <th>const</th> <td>    5.2714</td> <td>    5.672</td> <td>    0.929</td> <td> 0.395</td> <td>   -9.310    19.853</td>\n",
       "</tr>\n",
       "<tr>\n",
       "  <th>Hours</th> <td>    8.8344</td> <td>    1.133</td> <td>    7.798</td> <td> 0.001</td> <td>    5.922    11.746</td>\n",
       "</tr>\n",
       "</table>\n",
       "<table class=\"simpletable\">\n",
       "<tr>\n",
       "  <th>Omnibus:</th>       <td>   nan</td> <th>  Durbin-Watson:     </th> <td>   2.344</td>\n",
       "</tr>\n",
       "<tr>\n",
       "  <th>Prob(Omnibus):</th> <td>   nan</td> <th>  Jarque-Bera (JB):  </th> <td>   0.870</td>\n",
       "</tr>\n",
       "<tr>\n",
       "  <th>Skew:</th>          <td> 0.537</td> <th>  Prob(JB):          </th> <td>   0.647</td>\n",
       "</tr>\n",
       "<tr>\n",
       "  <th>Kurtosis:</th>      <td> 1.648</td> <th>  Cond. No.          </th> <td>    10.8</td>\n",
       "</tr>\n",
       "</table>"
      ],
      "text/plain": [
       "<class 'statsmodels.iolib.summary.Summary'>\n",
       "\"\"\"\n",
       "                            OLS Regression Results                            \n",
       "==============================================================================\n",
       "Dep. Variable:                 Scores   R-squared:                       0.924\n",
       "Model:                            OLS   Adj. R-squared:                  0.909\n",
       "Method:                 Least Squares   F-statistic:                     60.82\n",
       "Date:                Sat, 26 Jan 2019   Prob (F-statistic):           0.000555\n",
       "Time:                        06:12:38   Log-Likelihood:                -22.537\n",
       "No. Observations:                   7   AIC:                             49.07\n",
       "Df Residuals:                       5   BIC:                             48.97\n",
       "Df Model:                           1                                         \n",
       "Covariance Type:            nonrobust                                         \n",
       "==============================================================================\n",
       "                 coef    std err          t      P>|t|      [95.0% Conf. Int.]\n",
       "------------------------------------------------------------------------------\n",
       "const          5.2714      5.672      0.929      0.395        -9.310    19.853\n",
       "Hours          8.8344      1.133      7.798      0.001         5.922    11.746\n",
       "==============================================================================\n",
       "Omnibus:                          nan   Durbin-Watson:                   2.344\n",
       "Prob(Omnibus):                    nan   Jarque-Bera (JB):                0.870\n",
       "Skew:                           0.537   Prob(JB):                        0.647\n",
       "Kurtosis:                       1.648   Cond. No.                         10.8\n",
       "==============================================================================\n",
       "\n",
       "Warnings:\n",
       "[1] Standard Errors assume that the covariance matrix of the errors is correctly specified.\n",
       "\"\"\""
      ]
     },
     "execution_count": 5,
     "metadata": {},
     "output_type": "execute_result"
    }
   ],
   "source": [
    "import statsmodels.api as sm\n",
    "x=sm.add_constant(x)\n",
    "model=sm.OLS(y,x).fit()\n",
    "model.summary()"
   ]
  },
  {
   "cell_type": "code",
   "execution_count": 6,
   "metadata": {},
   "outputs": [
    {
     "name": "stdout",
     "output_type": "stream",
     "text": [
      "                            WLS Regression Results                            \n",
      "==============================================================================\n",
      "Dep. Variable:                 Scores   R-squared:                       0.924\n",
      "Model:                            WLS   Adj. R-squared:                  0.909\n",
      "Method:                 Least Squares   F-statistic:                     60.82\n",
      "Date:                Sat, 26 Jan 2019   Prob (F-statistic):           0.000555\n",
      "Time:                        06:12:39   Log-Likelihood:                -22.537\n",
      "No. Observations:                   7   AIC:                             49.07\n",
      "Df Residuals:                       5   BIC:                             48.97\n",
      "Df Model:                           1                                         \n",
      "Covariance Type:            nonrobust                                         \n",
      "==============================================================================\n",
      "                 coef    std err          t      P>|t|      [95.0% Conf. Int.]\n",
      "------------------------------------------------------------------------------\n",
      "const          5.2714      5.672      0.929      0.395        -9.310    19.853\n",
      "Hours          8.8344      1.133      7.798      0.001         5.922    11.746\n",
      "==============================================================================\n",
      "Omnibus:                          nan   Durbin-Watson:                   2.344\n",
      "Prob(Omnibus):                    nan   Jarque-Bera (JB):                0.870\n",
      "Skew:                           0.537   Prob(JB):                        0.647\n",
      "Kurtosis:                       1.648   Cond. No.                         10.8\n",
      "==============================================================================\n",
      "\n",
      "Warnings:\n",
      "[1] Standard Errors assume that the covariance matrix of the errors is correctly specified.\n"
     ]
    },
    {
     "name": "stderr",
     "output_type": "stream",
     "text": [
      "/home/nbuser/anaconda3_23/lib/python3.4/site-packages/statsmodels/stats/stattools.py:72: UserWarning: omni_normtest is not valid with less than 8 observations; 7 samples were given.\n",
      "  \"samples were given.\" % int(n))\n"
     ]
    }
   ],
   "source": [
    "model_wls = sm.WLS(y, x).fit()\n",
    "print(model_wls.summary())"
   ]
  },
  {
   "cell_type": "code",
   "execution_count": 7,
   "metadata": {},
   "outputs": [
    {
     "name": "stdout",
     "output_type": "stream",
     "text": [
      "                            GLS Regression Results                            \n",
      "==============================================================================\n",
      "Dep. Variable:                 Scores   R-squared:                       0.924\n",
      "Model:                            GLS   Adj. R-squared:                  0.909\n",
      "Method:                 Least Squares   F-statistic:                     60.82\n",
      "Date:                Sat, 26 Jan 2019   Prob (F-statistic):           0.000555\n",
      "Time:                        06:12:43   Log-Likelihood:                -22.537\n",
      "No. Observations:                   7   AIC:                             49.07\n",
      "Df Residuals:                       5   BIC:                             48.97\n",
      "Df Model:                           1                                         \n",
      "Covariance Type:            nonrobust                                         \n",
      "==============================================================================\n",
      "                 coef    std err          t      P>|t|      [95.0% Conf. Int.]\n",
      "------------------------------------------------------------------------------\n",
      "const          5.2714      5.672      0.929      0.395        -9.310    19.853\n",
      "Hours          8.8344      1.133      7.798      0.001         5.922    11.746\n",
      "==============================================================================\n",
      "Omnibus:                          nan   Durbin-Watson:                   2.344\n",
      "Prob(Omnibus):                    nan   Jarque-Bera (JB):                0.870\n",
      "Skew:                           0.537   Prob(JB):                        0.647\n",
      "Kurtosis:                       1.648   Cond. No.                         10.8\n",
      "==============================================================================\n",
      "\n",
      "Warnings:\n",
      "[1] Standard Errors assume that the covariance matrix of the errors is correctly specified.\n"
     ]
    },
    {
     "name": "stderr",
     "output_type": "stream",
     "text": [
      "/home/nbuser/anaconda3_23/lib/python3.4/site-packages/statsmodels/stats/stattools.py:72: UserWarning: omni_normtest is not valid with less than 8 observations; 7 samples were given.\n",
      "  \"samples were given.\" % int(n))\n"
     ]
    }
   ],
   "source": [
    "model_gls = sm.GLS(y, x).fit()\n",
    "print(model_gls.summary())"
   ]
  },
  {
   "cell_type": "code",
   "execution_count": 8,
   "metadata": {},
   "outputs": [],
   "source": [
    "x=data['Hours']\n",
    "y=data['Scored labels']"
   ]
  },
  {
   "cell_type": "code",
   "execution_count": 9,
   "metadata": {},
   "outputs": [
    {
     "name": "stderr",
     "output_type": "stream",
     "text": [
      "/home/nbuser/anaconda3_23/lib/python3.4/site-packages/statsmodels/stats/stattools.py:72: UserWarning: omni_normtest is not valid with less than 8 observations; 7 samples were given.\n",
      "  \"samples were given.\" % int(n))\n"
     ]
    },
    {
     "data": {
      "text/html": [
       "<table class=\"simpletable\">\n",
       "<caption>OLS Regression Results</caption>\n",
       "<tr>\n",
       "  <th>Dep. Variable:</th>      <td>Scored labels</td>  <th>  R-squared:         </th> <td>   1.000</td> \n",
       "</tr>\n",
       "<tr>\n",
       "  <th>Model:</th>                   <td>OLS</td>       <th>  Adj. R-squared:    </th> <td>   1.000</td> \n",
       "</tr>\n",
       "<tr>\n",
       "  <th>Method:</th>             <td>Least Squares</td>  <th>  F-statistic:       </th> <td>1.955e+31</td>\n",
       "</tr>\n",
       "<tr>\n",
       "  <th>Date:</th>             <td>Sat, 26 Jan 2019</td> <th>  Prob (F-statistic):</th> <td>1.12e-77</td> \n",
       "</tr>\n",
       "<tr>\n",
       "  <th>Time:</th>                 <td>06:12:45</td>     <th>  Log-Likelihood:    </th> <td>  214.39</td> \n",
       "</tr>\n",
       "<tr>\n",
       "  <th>No. Observations:</th>      <td>     7</td>      <th>  AIC:               </th> <td>  -424.8</td> \n",
       "</tr>\n",
       "<tr>\n",
       "  <th>Df Residuals:</th>          <td>     5</td>      <th>  BIC:               </th> <td>  -424.9</td> \n",
       "</tr>\n",
       "<tr>\n",
       "  <th>Df Model:</th>              <td>     1</td>      <th>                     </th>     <td> </td>    \n",
       "</tr>\n",
       "<tr>\n",
       "  <th>Covariance Type:</th>      <td>nonrobust</td>    <th>                     </th>     <td> </td>    \n",
       "</tr>\n",
       "</table>\n",
       "<table class=\"simpletable\">\n",
       "<tr>\n",
       "    <td></td>       <th>coef</th>     <th>std err</th>      <th>t</th>      <th>P>|t|</th> <th>[95.0% Conf. Int.]</th> \n",
       "</tr>\n",
       "<tr>\n",
       "  <th>const</th> <td>    1.0000</td> <td> 1.13e-14</td> <td> 8.83e+13</td> <td> 0.000</td> <td>    1.000     1.000</td>\n",
       "</tr>\n",
       "<tr>\n",
       "  <th>Hours</th> <td>   10.0000</td> <td> 2.26e-15</td> <td> 4.42e+15</td> <td> 0.000</td> <td>   10.000    10.000</td>\n",
       "</tr>\n",
       "</table>\n",
       "<table class=\"simpletable\">\n",
       "<tr>\n",
       "  <th>Omnibus:</th>       <td>   nan</td> <th>  Durbin-Watson:     </th> <td>   0.074</td>\n",
       "</tr>\n",
       "<tr>\n",
       "  <th>Prob(Omnibus):</th> <td>   nan</td> <th>  Jarque-Bera (JB):  </th> <td>   1.021</td>\n",
       "</tr>\n",
       "<tr>\n",
       "  <th>Skew:</th>          <td> 0.589</td> <th>  Prob(JB):          </th> <td>   0.600</td>\n",
       "</tr>\n",
       "<tr>\n",
       "  <th>Kurtosis:</th>      <td> 1.547</td> <th>  Cond. No.          </th> <td>    10.8</td>\n",
       "</tr>\n",
       "</table>"
      ],
      "text/plain": [
       "<class 'statsmodels.iolib.summary.Summary'>\n",
       "\"\"\"\n",
       "                            OLS Regression Results                            \n",
       "==============================================================================\n",
       "Dep. Variable:          Scored labels   R-squared:                       1.000\n",
       "Model:                            OLS   Adj. R-squared:                  1.000\n",
       "Method:                 Least Squares   F-statistic:                 1.955e+31\n",
       "Date:                Sat, 26 Jan 2019   Prob (F-statistic):           1.12e-77\n",
       "Time:                        06:12:45   Log-Likelihood:                 214.39\n",
       "No. Observations:                   7   AIC:                            -424.8\n",
       "Df Residuals:                       5   BIC:                            -424.9\n",
       "Df Model:                           1                                         \n",
       "Covariance Type:            nonrobust                                         \n",
       "==============================================================================\n",
       "                 coef    std err          t      P>|t|      [95.0% Conf. Int.]\n",
       "------------------------------------------------------------------------------\n",
       "const          1.0000   1.13e-14   8.83e+13      0.000         1.000     1.000\n",
       "Hours         10.0000   2.26e-15   4.42e+15      0.000        10.000    10.000\n",
       "==============================================================================\n",
       "Omnibus:                          nan   Durbin-Watson:                   0.074\n",
       "Prob(Omnibus):                    nan   Jarque-Bera (JB):                1.021\n",
       "Skew:                           0.589   Prob(JB):                        0.600\n",
       "Kurtosis:                       1.547   Cond. No.                         10.8\n",
       "==============================================================================\n",
       "\n",
       "Warnings:\n",
       "[1] Standard Errors assume that the covariance matrix of the errors is correctly specified.\n",
       "\"\"\""
      ]
     },
     "execution_count": 9,
     "metadata": {},
     "output_type": "execute_result"
    }
   ],
   "source": [
    "import statsmodels.api as sm\n",
    "x=sm.add_constant(x)\n",
    "model=sm.OLS(y,x).fit()\n",
    "model.summary()"
   ]
  },
  {
   "cell_type": "code",
   "execution_count": 10,
   "metadata": {},
   "outputs": [
    {
     "name": "stdout",
     "output_type": "stream",
     "text": [
      "[ 52.  28.  86.  70.  33.  12.  34.]\n"
     ]
    }
   ],
   "source": [
    "predictions=model.predict(x)\n",
    "print(predictions)"
   ]
  },
  {
   "cell_type": "code",
   "execution_count": 11,
   "metadata": {},
   "outputs": [],
   "source": [
    "Hours=data[\"Hours\"]\n",
    "Scores=data[\"Scores\"]\n",
    "scored_labels=data[\"Scored labels\"]"
   ]
  },
  {
   "cell_type": "code",
   "execution_count": 13,
   "metadata": {},
   "outputs": [
    {
     "data": {
      "text/html": [
       "<div>\n",
       "<table border=\"1\" class=\"dataframe\">\n",
       "  <thead>\n",
       "    <tr style=\"text-align: right;\">\n",
       "      <th></th>\n",
       "      <th>Hours</th>\n",
       "      <th>Pred_ols</th>\n",
       "      <th>Scores_Actual</th>\n",
       "      <th>pred_azure</th>\n",
       "    </tr>\n",
       "  </thead>\n",
       "  <tbody>\n",
       "    <tr>\n",
       "      <th>0</th>\n",
       "      <td>5.1</td>\n",
       "      <td>52.0</td>\n",
       "      <td>47</td>\n",
       "      <td>52</td>\n",
       "    </tr>\n",
       "    <tr>\n",
       "      <th>1</th>\n",
       "      <td>2.7</td>\n",
       "      <td>28.0</td>\n",
       "      <td>25</td>\n",
       "      <td>28</td>\n",
       "    </tr>\n",
       "    <tr>\n",
       "      <th>2</th>\n",
       "      <td>8.5</td>\n",
       "      <td>86.0</td>\n",
       "      <td>75</td>\n",
       "      <td>86</td>\n",
       "    </tr>\n",
       "    <tr>\n",
       "      <th>3</th>\n",
       "      <td>6.9</td>\n",
       "      <td>70.0</td>\n",
       "      <td>76</td>\n",
       "      <td>70</td>\n",
       "    </tr>\n",
       "    <tr>\n",
       "      <th>4</th>\n",
       "      <td>3.2</td>\n",
       "      <td>33.0</td>\n",
       "      <td>27</td>\n",
       "      <td>33</td>\n",
       "    </tr>\n",
       "    <tr>\n",
       "      <th>5</th>\n",
       "      <td>1.1</td>\n",
       "      <td>12.0</td>\n",
       "      <td>17</td>\n",
       "      <td>12</td>\n",
       "    </tr>\n",
       "    <tr>\n",
       "      <th>6</th>\n",
       "      <td>3.3</td>\n",
       "      <td>34.0</td>\n",
       "      <td>42</td>\n",
       "      <td>34</td>\n",
       "    </tr>\n",
       "  </tbody>\n",
       "</table>\n",
       "</div>"
      ],
      "text/plain": [
       "   Hours  Pred_ols  Scores_Actual  pred_azure\n",
       "0    5.1      52.0             47          52\n",
       "1    2.7      28.0             25          28\n",
       "2    8.5      86.0             75          86\n",
       "3    6.9      70.0             76          70\n",
       "4    3.2      33.0             27          33\n",
       "5    1.1      12.0             17          12\n",
       "6    3.3      34.0             42          34"
      ]
     },
     "execution_count": 13,
     "metadata": {},
     "output_type": "execute_result"
    }
   ],
   "source": [
    "import pandas as pd\n",
    "df=pd.DataFrame({\"Hours\":Hours,\"Scores_Actual\":Scores,\"pred_azure\":scored_labels,\"Pred_ols\":predictions})\n",
    "df"
   ]
  },
  {
   "cell_type": "code",
   "execution_count": 14,
   "metadata": {},
   "outputs": [
    {
     "name": "stdout",
     "output_type": "stream",
     "text": [
      "   Hours  Scores  Scored labels\n",
      "0    5.1      47             52\n",
      "1    2.7      25             28\n",
      "2    8.5      75             86\n",
      "3    6.9      76             70\n",
      "4    3.2      27             33\n",
      "5    1.1      17             12\n",
      "6    3.3      42             34\n"
     ]
    }
   ],
   "source": [
    "data=pd.DataFrame(data)\n",
    "print(data)"
   ]
  },
  {
   "cell_type": "code",
   "execution_count": 16,
   "metadata": {},
   "outputs": [
    {
     "name": "stdout",
     "output_type": "stream",
     "text": [
      "   Hours  Pred_ols\n",
      "0    5.1      52.0\n",
      "1    2.7      28.0\n",
      "2    8.5      86.0\n",
      "3    6.9      70.0\n",
      "4    3.2      33.0\n",
      "5    1.1      12.0\n",
      "6    3.3      34.0\n"
     ]
    }
   ],
   "source": [
    "pre_data=pd.DataFrame({\"Hours\":Hours,\"Pred_ols\":predictions})\n",
    "print(pre_data)"
   ]
  },
  {
   "cell_type": "code",
   "execution_count": 17,
   "metadata": {},
   "outputs": [
    {
     "name": "stdout",
     "output_type": "stream",
     "text": [
      "   Hours  Scores  Scored labels  Pred_ols\n",
      "0    5.1      47             52      52.0\n",
      "1    2.7      25             28      28.0\n",
      "2    8.5      75             86      86.0\n",
      "3    6.9      76             70      70.0\n",
      "4    3.2      27             33      33.0\n",
      "5    1.1      17             12      12.0\n",
      "6    3.3      42             34      34.0\n"
     ]
    }
   ],
   "source": [
    "result=pd.merge(data,pre_data,on=\"Hours\")\n",
    "print(result)"
   ]
  },
  {
   "cell_type": "code",
   "execution_count": 18,
   "metadata": {},
   "outputs": [
    {
     "name": "stdout",
     "output_type": "stream",
     "text": [
      "   Actual  predicted\n",
      "0      47       52.0\n",
      "1      25       28.0\n",
      "2      75       86.0\n",
      "3      76       70.0\n",
      "4      27       33.0\n",
      "5      17       12.0\n",
      "6      42       34.0\n"
     ]
    }
   ],
   "source": [
    "df1=pd.DataFrame({\"Actual\":Scores,\"predicted\":predictions})\n",
    "print(df1)                 "
   ]
  },
  {
   "cell_type": "code",
   "execution_count": 19,
   "metadata": {},
   "outputs": [
    {
     "name": "stdout",
     "output_type": "stream",
     "text": [
      "Root_Mean Squared error: 6.71884343789\n"
     ]
    }
   ],
   "source": [
    "import numpy as np\n",
    "from sklearn.metrics import mean_squared_error\n",
    "print(\"Root_Mean Squared error:\",np.sqrt(mean_squared_error(Scores,predictions)))"
   ]
  },
  {
   "cell_type": "code",
   "execution_count": 26,
   "metadata": {},
   "outputs": [
    {
     "name": "stdout",
     "output_type": "stream",
     "text": [
      "0.906421863102\n"
     ]
    }
   ],
   "source": [
    "from sklearn.metrics import r2_score\n",
    "r2_score=r2_score(Scores,predictions)\n",
    "print(r2_score)"
   ]
  },
  {
   "cell_type": "code",
   "execution_count": null,
   "metadata": {},
   "outputs": [],
   "source": []
  }
 ],
 "metadata": {
  "kernelspec": {
   "display_name": "Python 3",
   "language": "python",
   "name": "python3"
  },
  "language_info": {
   "codemirror_mode": {
    "name": "ipython",
    "version": 3
   },
   "file_extension": ".py",
   "mimetype": "text/x-python",
   "name": "python",
   "nbconvert_exporter": "python",
   "pygments_lexer": "ipython3",
   "version": "3.4.5"
  }
 },
 "nbformat": 4,
 "nbformat_minor": 1
}
